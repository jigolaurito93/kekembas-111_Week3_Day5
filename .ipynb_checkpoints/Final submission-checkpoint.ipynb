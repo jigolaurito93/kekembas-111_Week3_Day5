{
 "cells": [
  {
   "cell_type": "code",
   "execution_count": 13,
   "id": "bfac608e",
   "metadata": {},
   "outputs": [],
   "source": [
    "class ROI_Calculator:\n",
    "    \n",
    "    def __init__(self, total_income, total_expense, total_cashflow, total_investment, annual_cashflow, total_roi):\n",
    "        self.total_income = total_income\n",
    "        self.total_expense = total_expense\n",
    "        self.total_cashflow = total_cashflow\n",
    "        self.total_investment = total_investment\n",
    "        self.annual_cashflow = annual_cashflow\n",
    "        self.total_roi = total_roi\n",
    "\n",
    "    def print_receipt():\n",
    "        print(f\"================= SUMMARRY =================\")\n",
    "        print(f\"\\n\")\n",
    "        print(f\"Monthly Income: ${total_income}\")\n",
    "        print(f\"Monthly Expense: ${total_expense}\")\n",
    "        print(f\"Monthly Cashflow: ${total_cashflow}\")\n",
    "        print(f\"Total Investment: ${total_investment}\")\n",
    "        print(f\"Annual Cashflow: ${annual_cashflow}\")\n",
    "        print(f\"Cash on Cash ROI: {total_roi}%\")\n",
    "\n",
    "class User:\n",
    "    id_counter = 0\n",
    "    \n",
    "    def __init__(self, username):\n",
    "        self.username = username\n",
    "        print(f\"Hi {username.title()}! My name is Brandon, I'm going to assist you in computing for your Rental Property ROI.\\n\")\n",
    "        self.id = User.id_counter\n",
    "        User.id_counter += 1\n",
    "\n",
    "    def __str__(self):\n",
    "        return self.username\n",
    "    \n",
    "    def __repr__(self):\n",
    "        return f\"< User{User.id_counter} | {self.username.title()} >\"\n",
    "\n",
    "class Income:\n",
    "    laundry_a = True\n",
    "    storage_a = True\n",
    "\n",
    "    def __init__(self, rental_income, laundry_income, storage_income):\n",
    "        self.rental_income = rental_income\n",
    "        self.laundry_income = laundry_income\n",
    "        self.storage_income = storage_income\n",
    "       \n",
    "\n",
    "class Expenses:\n",
    "    utlities_a = True \n",
    "\n",
    "    def __init__(self, tax_exp, insurance_exp, utilities_exp, hoa_exp, lawn_exp, vacancy_exp, repairs_exp, capex_exp, management_exp, mortgage_exp):\n",
    "        self.tax_exp = tax_exp \n",
    "        self.insurance_exp = insurance_exp \n",
    "        self.utilities_exp = utilities_exp \n",
    "        self.hoa_exp = hoa_exp \n",
    "        self.lawn_exp =lawn_exp \n",
    "        self.vacancy_exp = vacancy_exp \n",
    "        self.repairs_exp = repairs_exp \n",
    "        self.capex_exp = capex_exp \n",
    "        self.management_exp = management_exp \n",
    "        self.mortgage_exp = mortgage_exp\n",
    "\n",
    "class COC:\n",
    "\n",
    "    def __init__(self, down_payment_exp, full_payment_exp, closing_exp, rehab_exp):\n",
    "        self.down_payment_exp = down_payment_exp\n",
    "        self.full_payment_exp = full_payment_exp\n",
    "        self.closing_exp = closing_exp\n",
    "        self.rehab_exp = rehab_exp"
   ]
  },
  {
   "cell_type": "markdown",
   "id": "82309d21",
   "metadata": {},
   "source": [
    "Welcome"
   ]
  },
  {
   "cell_type": "code",
   "execution_count": 14,
   "id": "d7f42b07",
   "metadata": {},
   "outputs": [],
   "source": [
    "def run_calculator():\n",
    "    print(f\"\\n\\nWelcome to Bigger Pockets!\")\n",
    "    print(f\"Live Life on Your Terms With Real Estate Investing\")\n",
    "    print(f\"Let's get started!\\n\\n\")"
   ]
  },
  {
   "cell_type": "markdown",
   "id": "f87449cf",
   "metadata": {},
   "source": [
    "Ask name of user"
   ]
  },
  {
   "cell_type": "code",
   "execution_count": 16,
   "id": "9088f09c",
   "metadata": {},
   "outputs": [
    {
     "name": "stdout",
     "output_type": "stream",
     "text": [
      "What is your name? jose\n",
      "\n",
      "\n",
      "Hi Jose! My name is Brandon, I'm going to assist you in computing for your Rental Property ROI.\n",
      "\n",
      "It's divided into 4 sections:\n",
      "   - Income\n",
      "   - Expenses\n",
      "   - Cash Flow\n",
      "   - Cash on Cash ROI\n",
      "\n"
     ]
    }
   ],
   "source": [
    "    user_name = input(f\"What is your name? \")\n",
    "    print(\"\\n\")\n",
    "    user1 = User(user_name)\n",
    "    user1.__str__()\n",
    "    print(f\"It's divided into 4 sections:\")\n",
    "    print(f\"   - Income\")\n",
    "    print(f\"   - Expenses\")\n",
    "    print(f\"   - Cash Flow\")\n",
    "    print(f\"   - Cash on Cash ROI\\n\")"
   ]
  },
  {
   "cell_type": "markdown",
   "id": "361ed4e3",
   "metadata": {},
   "source": [
    "Compute for monthly income"
   ]
  },
  {
   "cell_type": "code",
   "execution_count": 17,
   "id": "80f9b682",
   "metadata": {},
   "outputs": [
    {
     "name": "stdout",
     "output_type": "stream",
     "text": [
      "First, we will have to compute for your monthly income:\n",
      "\n",
      "How much is your monthly rental income? (Total anticipated monthly rent when fully rented) 2000\n",
      "Do you charge for laundry in your property? (ex. coin-op laundry)\n",
      "1 for Yes, 2 for No: 2\n",
      "Do you offer storage rental in your property? (ex. parking , extra storage room)\n",
      "1 for Yes, 2 for No: 2\n",
      "\n",
      "\n",
      "===========================================\n",
      "\n",
      "Your monthly total income is ....... $2000 \n",
      "\n",
      "=========================================== \n",
      "\n"
     ]
    }
   ],
   "source": [
    "    print(f\"First, we will have to compute for your monthly income:\\n\")\n",
    "    rental_income = int(input('How much is your monthly rental income? (Total anticipated monthly rent when fully rented) '))\n",
    "    print(f\"Do you charge for laundry in your property? (ex. coin-op laundry)\")\n",
    "    laundry_q = input(f\"1 for Yes, 2 for No: \")\n",
    "    laundry_q = int(laundry_q)\n",
    "    if laundry_q == 2:\n",
    "        laundry_a = False\n",
    "        laundry_income = 0\n",
    "    while laundry_a:\n",
    "        laundry_income = int(input(f\"How much do you earn from laundry monthly? \"))\n",
    "        break\n",
    "    print(f\"Do you offer storage rental in your property? (ex. parking , extra storage room)\")\n",
    "    storage_q = input(f\"1 for Yes, 2 for No: \")\n",
    "    storage_q = int(storage_q)\n",
    "    if storage_q == 2:\n",
    "        storage_a = False\n",
    "        storage_income = 0\n",
    "    while storage_a:\n",
    "        storage_income = int(input(f\"How much do you earn from storage rental monthly? \"))\n",
    "        break\n",
    "     \n",
    "    user1 = Income(rental_income, laundry_income, storage_income)\n",
    "\n",
    "    total_income = rental_income + laundry_income + storage_income\n",
    "    total_income1 = (f\"\\nYour monthly total income is ....... ${total_income}\")\n",
    "    print(\"\\n\")\n",
    "    print(len(total_income1) * \"=\")\n",
    "    print(total_income1,\"\\n\")\n",
    "    print(len(total_income1) * \"=\",\"\\n\")"
   ]
  },
  {
   "cell_type": "markdown",
   "id": "c9d5edf9",
   "metadata": {},
   "source": [
    "Compute for monthly expenses"
   ]
  },
  {
   "cell_type": "code",
   "execution_count": 19,
   "id": "daae6681",
   "metadata": {},
   "outputs": [
    {
     "name": "stdout",
     "output_type": "stream",
     "text": [
      "Next, we will compute for your monthly expenses.\n",
      "\n",
      "How much do you spend for property taxes? (Total monthly tax costs) 150\n",
      "How much is your insurance? (Total monthly property hazard insurance estimate) 100\n",
      "Do you pay for utilities? \n",
      "1 for Yes, 2 for No: 2\n",
      "How much do you pay for HOA fees? (Condo or association fees) 0\n",
      "How much do you pay for lawn/snow care? (Yard maintenance, preventative maintenance) 0\n",
      "How much does it cost for vacancy of property? (The national average is approx. 7%. To compute for vacany expense, estimated vacany rate x monthly expense) 100\n",
      "How much do you spend on repairs? (Broken faucets, appliances, etc.) 100\n",
      "How much do you spend on capital expenditures? 100\n",
      "How much do you pay for property management fee? 200\n",
      "How much do you pay for mortgage? 860\n",
      "==========================================\n",
      "\n",
      "Your monthly expense is ........... $1610 \n",
      "\n",
      "========================================== \n",
      "\n"
     ]
    }
   ],
   "source": [
    "    print(f\"Next, we will compute for your monthly expenses.\\n\")\n",
    "    tax_exp = int(input(f\"How much do you spend for property taxes? (Total monthly tax costs) \"))\n",
    "    insurance_exp = int(input(f\"How much is your insurance? (Total monthly property hazard insurance estimate) \"))\n",
    "    print(f\"Do you pay for utilities? \")\n",
    "    utlities_q = int(input(f\"1 for Yes, 2 for No: \"))\n",
    "    if utlities_q == 2:\n",
    "        utlities_a = False\n",
    "        utilities_exp = 0\n",
    "    while utlities_a:\n",
    "        electric_exp = int(input(f\"How much do you pay for electricity? \"))\n",
    "        water_exp = int(input(f\"How much do you pay for water? \"))\n",
    "        sewer_exp = int(input(f\"How much do you pay for sewer? \"))\n",
    "        garbage_exp = int(input(f\"How much do you pay for garbage? \"))\n",
    "        gas_exp = int(input(f\"How much do you pay for gas? \"))\n",
    "        utilities_exp = electric_exp + water_exp + sewer_exp + garbage_exp + gas_exp\n",
    "        break\n",
    "\n",
    "    hoa_exp = int(input(f\"How much do you pay for HOA fees? (Condo or association fees) \" ))\n",
    "    lawn_exp = int(input(f\"How much do you pay for lawn/snow care? (Yard maintenance, preventative maintenance) \"))\n",
    "    vacancy_exp = int(input(f\"How much does it cost for vacancy of property? (The national average is approx. 7%. To compute for vacany expense, estimated vacany rate x monthly expense) \"))\n",
    "    repairs_exp = int(input(f\"How much do you spend on repairs? (Broken faucets, appliances, etc.) \"))\n",
    "    capex_exp = int(input(f\"How much do you spend on capital expenditures? \"))\n",
    "    management_exp = int(input(f\"How much do you pay for property management fee? \"))\n",
    "    mortgage_exp = int(input(f\"How much do you pay for mortgage? \"))\n",
    "    \n",
    "    user1 = Expenses(tax_exp, insurance_exp, utilities_exp, hoa_exp, lawn_exp, vacancy_exp, repairs_exp, capex_exp, management_exp, mortgage_exp)\n",
    "\n",
    "    total_expense = tax_exp + insurance_exp + utilities_exp + hoa_exp + lawn_exp + vacancy_exp + repairs_exp + capex_exp + management_exp + mortgage_exp\n",
    "    total_expense1 = (f\"\\nYour monthly expense is ........... ${total_expense}\")\n",
    "    print(len(total_expense1)* \"=\")\n",
    "    print(total_expense1,\"\\n\")\n",
    "    print(len(total_expense1)* \"=\",\"\\n\")"
   ]
  },
  {
   "cell_type": "markdown",
   "id": "437e1cee",
   "metadata": {},
   "source": [
    "Compute for cash flow"
   ]
  },
  {
   "cell_type": "code",
   "execution_count": 20,
   "id": "9ae78c31",
   "metadata": {},
   "outputs": [
    {
     "name": "stdout",
     "output_type": "stream",
     "text": [
      "Next, we will compute for your monthly cash flow.\n",
      "Monthly cash flow would be your (monthly income - monthly expenses)\n",
      "\n",
      "Monthly Income: $2000 - Monthly Expenses: $1610\n",
      "\n",
      "========================================= \n",
      "\n",
      "Your monthly cashflow is .......... $390\n",
      "\n",
      "========================================= \n",
      "\n"
     ]
    }
   ],
   "source": [
    "    total_cashflow = total_income - total_expense\n",
    "    print(f\"Next, we will compute for your monthly cash flow.\")\n",
    "    print(f\"Monthly cash flow would be your (monthly income - monthly expenses)\\n\")\n",
    "    print(f\"Monthly Income: ${total_income} - Monthly Expenses: ${total_expense}\\n\")\n",
    "    total_cashflow1 = (f\"Your monthly cashflow is .......... ${total_cashflow}\\n\")\n",
    "    print(len(total_cashflow1)*\"=\",\"\\n\")\n",
    "    print(total_cashflow1)\n",
    "    print(len(total_cashflow1)*\"=\",\"\\n\")"
   ]
  },
  {
   "cell_type": "markdown",
   "id": "dffe90e2",
   "metadata": {},
   "source": [
    "Compute for cash on cash ROI"
   ]
  },
  {
   "cell_type": "code",
   "execution_count": 21,
   "id": "40ff65f2",
   "metadata": {},
   "outputs": [
    {
     "name": "stdout",
     "output_type": "stream",
     "text": [
      "Lastly, we will compute for your cash on cash ROI\n",
      "\n",
      "Did you pay in full or did you put a downpayment for your property?\n",
      "1 for Fully Paid, 2 for Downpaid: 2\n",
      "How much was your downpayment? 40000\n",
      "How was was your closing cost? 3000\n",
      "How much was your rehab budget? 7000\n",
      "\n",
      "\n"
     ]
    }
   ],
   "source": [
    "    print(f\"Lastly, we will compute for your cash on cash ROI\\n\")\n",
    "    print(f\"Did you pay in full or did you put a downpayment for your property?\")\n",
    "    property_payment = int(input(f\"1 for Fully Paid, 2 for Downpaid: \"))\n",
    "    if property_payment == 1:\n",
    "        full_payment_exp = int(input(f\"How much did you pay in full? \"))\n",
    "        down_payment_exp = 0\n",
    "    elif property_payment == 2:\n",
    "        down_payment_exp = int(input(f\"How much was your downpayment? \"))\n",
    "    full_payment_exp = 0\n",
    "    closing_exp = int(input(f\"How was was your closing cost? \"))\n",
    "    rehab_exp = int(input(f\"How much was your rehab budget? \"))\n",
    "    print(\"\\n\")"
   ]
  },
  {
   "cell_type": "markdown",
   "id": "bc08910e",
   "metadata": {},
   "source": [
    "Compute for total investment"
   ]
  },
  {
   "cell_type": "code",
   "execution_count": 22,
   "id": "a9172b30",
   "metadata": {},
   "outputs": [
    {
     "name": "stdout",
     "output_type": "stream",
     "text": [
      "========================================== \n",
      "\n",
      "Your total investment is .......... $50000 \n",
      "\n"
     ]
    }
   ],
   "source": [
    "    total_investment = down_payment_exp + full_payment_exp + closing_exp + rehab_exp\n",
    "    total_inv1 = f\"Your total investment is .......... ${total_investment}\"\n",
    "    print(len(total_inv1)*\"=\",\"\\n\")\n",
    "    print(total_inv1,\"\\n\")"
   ]
  },
  {
   "cell_type": "markdown",
   "id": "9c82c34b",
   "metadata": {},
   "source": [
    "Compute for total ROI"
   ]
  },
  {
   "cell_type": "code",
   "execution_count": 23,
   "id": "e3c32fdb",
   "metadata": {},
   "outputs": [
    {
     "name": "stdout",
     "output_type": "stream",
     "text": [
      "Your annual cash flow is ......... $4680\n",
      "\n",
      "Your cash on cash ROI is ........... 9.36%\n"
     ]
    }
   ],
   "source": [
    "    annual_cashflow = total_cashflow * 12\n",
    "    print(f\"Your annual cash flow is ......... ${annual_cashflow}\\n\")\n",
    "    total_roi = annual_cashflow / total_investment \n",
    "    total_roi *= 100\n",
    "    total_roi1 = f\"Your cash on cash ROI is ........... {total_roi}%\"\n",
    "    print(total_roi1)\n",
    "\n",
    "    user1 = COC(down_payment_exp, full_payment_exp, closing_exp, rehab_exp)"
   ]
  },
  {
   "cell_type": "markdown",
   "id": "0d4b0dbc",
   "metadata": {},
   "source": [
    "Print receipt"
   ]
  },
  {
   "cell_type": "code",
   "execution_count": 25,
   "id": "2d87a63b",
   "metadata": {},
   "outputs": [
    {
     "name": "stdout",
     "output_type": "stream",
     "text": [
      "Would you like to see the summary of your everything? \n",
      "1 for Yes, 2 for No: 1\n",
      "Monthly Income: 2000\n",
      "Monthly Expense: 1610\n",
      "Monthly Cashflow: 390\n",
      "Total Investment: 50000\n",
      "Annual Cashflow: 4680\n",
      "Cash on Cash ROI: 9.36\n",
      "Would you like to see the summary of your everything? \n"
     ]
    },
    {
     "ename": "KeyboardInterrupt",
     "evalue": "Interrupted by user",
     "output_type": "error",
     "traceback": [
      "\u001b[1;31m---------------------------------------------------------------------------\u001b[0m",
      "\u001b[1;31mKeyboardInterrupt\u001b[0m                         Traceback (most recent call last)",
      "\u001b[1;32m~\\AppData\\Local\\Temp\\ipykernel_20108\\2547323680.py\u001b[0m in \u001b[0;36m<module>\u001b[1;34m\u001b[0m\n\u001b[0;32m      5\u001b[0m \u001b[1;32mwhile\u001b[0m \u001b[0mprint_receipt\u001b[0m\u001b[1;33m:\u001b[0m\u001b[1;33m\u001b[0m\u001b[1;33m\u001b[0m\u001b[0m\n\u001b[0;32m      6\u001b[0m     \u001b[0mprint\u001b[0m\u001b[1;33m(\u001b[0m\u001b[1;34mf\"Would you like to see the summary of your everything? \"\u001b[0m\u001b[1;33m)\u001b[0m\u001b[1;33m\u001b[0m\u001b[1;33m\u001b[0m\u001b[0m\n\u001b[1;32m----> 7\u001b[1;33m     \u001b[0mprint_receipt1\u001b[0m \u001b[1;33m=\u001b[0m \u001b[0mint\u001b[0m\u001b[1;33m(\u001b[0m\u001b[0minput\u001b[0m\u001b[1;33m(\u001b[0m\u001b[1;34mf\"1 for Yes, 2 for No: \"\u001b[0m\u001b[1;33m)\u001b[0m\u001b[1;33m)\u001b[0m\u001b[1;33m\u001b[0m\u001b[1;33m\u001b[0m\u001b[0m\n\u001b[0m\u001b[0;32m      8\u001b[0m     \u001b[1;32mif\u001b[0m \u001b[0mprint_receipt1\u001b[0m \u001b[1;33m==\u001b[0m \u001b[1;36m1\u001b[0m\u001b[1;33m:\u001b[0m\u001b[1;33m\u001b[0m\u001b[1;33m\u001b[0m\u001b[0m\n\u001b[0;32m      9\u001b[0m         \u001b[0mROI_Calculator\u001b[0m\u001b[1;33m.\u001b[0m\u001b[0mprint_receipt\u001b[0m\u001b[1;33m(\u001b[0m\u001b[1;33m)\u001b[0m\u001b[1;33m\u001b[0m\u001b[1;33m\u001b[0m\u001b[0m\n",
      "\u001b[1;32m~\\anaconda3\\lib\\site-packages\\ipykernel\\kernelbase.py\u001b[0m in \u001b[0;36mraw_input\u001b[1;34m(self, prompt)\u001b[0m\n\u001b[0;32m   1175\u001b[0m                 \u001b[1;34m\"raw_input was called, but this frontend does not support input requests.\"\u001b[0m\u001b[1;33m\u001b[0m\u001b[1;33m\u001b[0m\u001b[0m\n\u001b[0;32m   1176\u001b[0m             )\n\u001b[1;32m-> 1177\u001b[1;33m         return self._input_request(\n\u001b[0m\u001b[0;32m   1178\u001b[0m             \u001b[0mstr\u001b[0m\u001b[1;33m(\u001b[0m\u001b[0mprompt\u001b[0m\u001b[1;33m)\u001b[0m\u001b[1;33m,\u001b[0m\u001b[1;33m\u001b[0m\u001b[1;33m\u001b[0m\u001b[0m\n\u001b[0;32m   1179\u001b[0m             \u001b[0mself\u001b[0m\u001b[1;33m.\u001b[0m\u001b[0m_parent_ident\u001b[0m\u001b[1;33m[\u001b[0m\u001b[1;34m\"shell\"\u001b[0m\u001b[1;33m]\u001b[0m\u001b[1;33m,\u001b[0m\u001b[1;33m\u001b[0m\u001b[1;33m\u001b[0m\u001b[0m\n",
      "\u001b[1;32m~\\anaconda3\\lib\\site-packages\\ipykernel\\kernelbase.py\u001b[0m in \u001b[0;36m_input_request\u001b[1;34m(self, prompt, ident, parent, password)\u001b[0m\n\u001b[0;32m   1217\u001b[0m             \u001b[1;32mexcept\u001b[0m \u001b[0mKeyboardInterrupt\u001b[0m\u001b[1;33m:\u001b[0m\u001b[1;33m\u001b[0m\u001b[1;33m\u001b[0m\u001b[0m\n\u001b[0;32m   1218\u001b[0m                 \u001b[1;31m# re-raise KeyboardInterrupt, to truncate traceback\u001b[0m\u001b[1;33m\u001b[0m\u001b[1;33m\u001b[0m\u001b[0m\n\u001b[1;32m-> 1219\u001b[1;33m                 \u001b[1;32mraise\u001b[0m \u001b[0mKeyboardInterrupt\u001b[0m\u001b[1;33m(\u001b[0m\u001b[1;34m\"Interrupted by user\"\u001b[0m\u001b[1;33m)\u001b[0m \u001b[1;32mfrom\u001b[0m \u001b[1;32mNone\u001b[0m\u001b[1;33m\u001b[0m\u001b[1;33m\u001b[0m\u001b[0m\n\u001b[0m\u001b[0;32m   1220\u001b[0m             \u001b[1;32mexcept\u001b[0m \u001b[0mException\u001b[0m\u001b[1;33m:\u001b[0m\u001b[1;33m\u001b[0m\u001b[1;33m\u001b[0m\u001b[0m\n\u001b[0;32m   1221\u001b[0m                 \u001b[0mself\u001b[0m\u001b[1;33m.\u001b[0m\u001b[0mlog\u001b[0m\u001b[1;33m.\u001b[0m\u001b[0mwarning\u001b[0m\u001b[1;33m(\u001b[0m\u001b[1;34m\"Invalid Message:\"\u001b[0m\u001b[1;33m,\u001b[0m \u001b[0mexc_info\u001b[0m\u001b[1;33m=\u001b[0m\u001b[1;32mTrue\u001b[0m\u001b[1;33m)\u001b[0m\u001b[1;33m\u001b[0m\u001b[1;33m\u001b[0m\u001b[0m\n",
      "\u001b[1;31mKeyboardInterrupt\u001b[0m: Interrupted by user"
     ]
    }
   ],
   "source": [
    "    user1 = ROI_Calculator(total_income, total_expense, total_cashflow, total_investment, annual_cashflow, total_roi)\n",
    "\n",
    "    print_receipt = True\n",
    "\n",
    "    while print_receipt:\n",
    "        print(f\"Would you like to see the summary of your everything? \")\n",
    "        print_receipt1 = int(input(f\"1 for Yes, 2 for No: \"))\n",
    "        if print_receipt1 == 1:\n",
    "            ROI_Calculator.print_receipt()\n",
    "            print(f\"\\nThank you for using Bigger Pockets' Rental Property ROI Calculator.\")\n",
    "            print(f\"We hope to see you again!\"\")\n",
    "        elif print_receipt1 == 2:\n",
    "            print(f\"Thank you for using Bigger Pockets' Rental Property ROI Calculator.\")   \n",
    "            print(f\"We hope to see you again!\"\")"
   ]
  },
  {
   "cell_type": "code",
   "execution_count": null,
   "id": "4e78f613",
   "metadata": {},
   "outputs": [],
   "source": [
    "run_calculator()"
   ]
  },
  {
   "cell_type": "code",
   "execution_count": null,
   "id": "0ba9df9d",
   "metadata": {},
   "outputs": [],
   "source": []
  },
  {
   "cell_type": "code",
   "execution_count": null,
   "id": "a3495af7",
   "metadata": {},
   "outputs": [],
   "source": []
  }
 ],
 "metadata": {
  "kernelspec": {
   "display_name": "Python 3 (ipykernel)",
   "language": "python",
   "name": "python3"
  },
  "language_info": {
   "codemirror_mode": {
    "name": "ipython",
    "version": 3
   },
   "file_extension": ".py",
   "mimetype": "text/x-python",
   "name": "python",
   "nbconvert_exporter": "python",
   "pygments_lexer": "ipython3",
   "version": "3.9.13"
  }
 },
 "nbformat": 4,
 "nbformat_minor": 5
}

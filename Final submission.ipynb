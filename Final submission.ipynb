{
 "cells": [
  {
   "cell_type": "code",
   "execution_count": 7,
   "id": "640afbb9",
   "metadata": {},
   "outputs": [],
   "source": [
    "laundry_a = True\n",
    "storage_a = True\n",
    "utilities_a = True\n",
    "\n",
    "class ROI_Calculator:\n",
    "    \n",
    "    def __init__(self, total_income, total_expense, total_cashflow, total_investment, annual_cashflow, total_roi):\n",
    "        self.total_income = total_income\n",
    "        self.total_expense = total_expense\n",
    "        self.total_cashflow = total_cashflow\n",
    "        self.total_investment = total_investment\n",
    "        self.annual_cashflow = annual_cashflow\n",
    "        self.total_roi = total_roi\n",
    "\n",
    "    def print_receipt():\n",
    "        print(\"\\n\")\n",
    "        print(f\"================= SUMMARRY =================\")\n",
    "        print(\"\")\n",
    "        print(f\"Monthly Income: ${total_income}\")\n",
    "        print(f\"Monthly Expense: ${total_expense}\")\n",
    "        print(f\"Monthly Cashflow: ${total_cashflow}\")\n",
    "        print(f\"Total Investment: ${total_investment}\")\n",
    "        print(f\"Annual Cashflow: ${annual_cashflow}\")\n",
    "        print(f\"Cash on Cash ROI: {total_roi:.2f}%\")\n",
    "        print(\"\")\n",
    "        print(f\"============================================\")\n",
    "\n",
    "class User:\n",
    "    id_counter = 0\n",
    "    \n",
    "    def __init__(self, username):\n",
    "        self.username = username\n",
    "        print(f\"Hi {username.title()}! My name is Brandon, I'm going to assist you in computing for your Rental Property ROI.\\n\")\n",
    "        self.id = User.id_counter\n",
    "        User.id_counter += 1\n",
    "\n",
    "    def __str__(self):\n",
    "        return self.username\n",
    "    \n",
    "    def __repr__(self):\n",
    "        return f\"< User{User.id_counter} | {self.username.title()} >\"\n",
    "\n",
    "class Income:\n",
    "    laundry_a = True\n",
    "    storage_a = True\n",
    "\n",
    "    def __init__(self, rental_income, laundry_income, storage_income):\n",
    "        self.rental_income = rental_income\n",
    "        self.laundry_income = laundry_income\n",
    "        self.storage_income = storage_income\n",
    "       \n",
    "\n",
    "class Expenses:\n",
    "    utlities_a = True \n",
    "\n",
    "    def __init__(self, tax_exp, insurance_exp, utilities_exp, hoa_exp, lawn_exp, vacancy_exp, repairs_exp, capex_exp, management_exp, mortgage_exp):\n",
    "        self.tax_exp = tax_exp \n",
    "        self.insurance_exp = insurance_exp \n",
    "        self.utilities_exp = utilities_exp \n",
    "        self.hoa_exp = hoa_exp \n",
    "        self.lawn_exp =lawn_exp \n",
    "        self.vacancy_exp = vacancy_exp \n",
    "        self.repairs_exp = repairs_exp \n",
    "        self.capex_exp = capex_exp \n",
    "        self.management_exp = management_exp \n",
    "        self.mortgage_exp = mortgage_exp\n",
    "\n",
    "class COC:\n",
    "\n",
    "    def __init__(self, down_payment_exp, full_payment_exp, closing_exp, rehab_exp):\n",
    "        self.down_payment_exp = down_payment_exp\n",
    "        self.full_payment_exp = full_payment_exp\n",
    "        self.closing_exp = closing_exp\n",
    "        self.rehab_exp = rehab_exp"
   ]
  },
  {
   "cell_type": "markdown",
   "id": "4faac22e",
   "metadata": {},
   "source": [
    "\"For the sake of running this (run_calculator) function, I commented out line 1 of cell 2 which is (def run_calculator():) "
   ]
  },
  {
   "cell_type": "code",
   "execution_count": 8,
   "id": "ad4faab0",
   "metadata": {},
   "outputs": [
    {
     "name": "stdout",
     "output_type": "stream",
     "text": [
      "\n",
      "\n",
      "Welcome to Bigger Pockets!\n",
      "Live Life on Your Terms With Real Estate Investing\n",
      "Let's get started!\n",
      "\n",
      "\n"
     ]
    }
   ],
   "source": [
    "# def run_calculator():\n",
    "print(f\"\\n\\nWelcome to Bigger Pockets!\")\n",
    "print(f\"Live Life on Your Terms With Real Estate Investing\")\n",
    "print(f\"Let's get started!\\n\\n\")"
   ]
  },
  {
   "cell_type": "markdown",
   "id": "b157fbc7",
   "metadata": {},
   "source": [
    "Ask name of user"
   ]
  },
  {
   "cell_type": "code",
   "execution_count": 9,
   "id": "79b8bc2a",
   "metadata": {},
   "outputs": [
    {
     "name": "stdout",
     "output_type": "stream",
     "text": [
      "What is your name? jose\n",
      "\n",
      "\n",
      "Hi Jose! My name is Brandon, I'm going to assist you in computing for your Rental Property ROI.\n",
      "\n",
      "It's divided into 4 sections:\n",
      "   - Income\n",
      "   - Expenses\n",
      "   - Cash Flow\n",
      "   - Cash on Cash ROI\n",
      " \n",
      "(Please exclude any currency signs, commas or decimal points in your inputs.)\n"
     ]
    }
   ],
   "source": [
    "    user_name = input(f\"What is your name? \")\n",
    "    print(\"\\n\")\n",
    "    user1 = User(user_name)\n",
    "    user1.__str__()\n",
    "    print(f\"It's divided into 4 sections:\")\n",
    "    print(f\"   - Income\")\n",
    "    print(f\"   - Expenses\")\n",
    "    print(f\"   - Cash Flow\")\n",
    "    print(f\"   - Cash on Cash ROI\")\n",
    "    print(\" \")\n",
    "    print(f\"(Please exclude any currency signs, commas or decimal points in your inputs.)\")"
   ]
  },
  {
   "cell_type": "markdown",
   "id": "9f759d13",
   "metadata": {},
   "source": [
    "Compute for monthly income"
   ]
  },
  {
   "cell_type": "code",
   "execution_count": 11,
   "id": "1a4d2ede",
   "metadata": {},
   "outputs": [
    {
     "name": "stdout",
     "output_type": "stream",
     "text": [
      "First, we will have to compute for your monthly income:\n",
      "\n",
      "How much is your monthly rental income? (Total anticipated monthly rent when fully rented) 1800\n",
      "Do you charge for laundry in your property? (ex. coin-op laundry)\n",
      "1 for Yes, 2 for No: 1\n",
      "How much do you earn from laundry monthly? 100\n",
      "Do you offer storage rental in your property? (ex. parking , extra storage room)\n",
      "1 for Yes, 2 for No: 1\n",
      "How much do you earn from storage rental monthly? 100\n",
      "\n",
      "\n",
      "===========================================\n",
      "\n",
      "Your monthly total income is ....... $2000 \n",
      "\n",
      "=========================================== \n",
      "\n"
     ]
    }
   ],
   "source": [
    "    print(f\"First, we will have to compute for your monthly income:\\n\")\n",
    "    rental_income = int(input('How much is your monthly rental income? (Total anticipated monthly rent when fully rented) '))\n",
    "    print(f\"Do you charge for laundry in your property? (ex. coin-op laundry)\")\n",
    "    laundry_q = input(f\"1 for Yes, 2 for No: \")\n",
    "    laundry_q = int(laundry_q)\n",
    "    if laundry_q == 2:\n",
    "        laundry_a = False\n",
    "        laundry_income = 0\n",
    "    while laundry_a:\n",
    "        laundry_income = int(input(f\"How much do you earn from laundry monthly? \"))\n",
    "        break\n",
    "    print(f\"Do you offer storage rental in your property? (ex. parking , extra storage room)\")\n",
    "    storage_q = input(f\"1 for Yes, 2 for No: \")\n",
    "    storage_q = int(storage_q)\n",
    "    if storage_q == 2:\n",
    "        storage_a = False\n",
    "        storage_income = 0\n",
    "    while storage_a:\n",
    "        storage_income = int(input(f\"How much do you earn from storage rental monthly? \"))\n",
    "        break\n",
    "     \n",
    "    user1 = Income(rental_income, laundry_income, storage_income)\n",
    "\n",
    "    total_income = rental_income + laundry_income + storage_income\n",
    "    total_income1 = (f\"\\nYour monthly total income is ....... ${total_income}\")\n",
    "    print(\"\\n\")\n",
    "    print(len(total_income1) * \"=\")\n",
    "    print(total_income1,\"\\n\")\n",
    "    print(len(total_income1) * \"=\",\"\\n\")"
   ]
  },
  {
   "cell_type": "markdown",
   "id": "1d77c7ba",
   "metadata": {},
   "source": [
    "Compute for monthly expenses"
   ]
  },
  {
   "cell_type": "code",
   "execution_count": 12,
   "id": "79f254df",
   "metadata": {},
   "outputs": [
    {
     "name": "stdout",
     "output_type": "stream",
     "text": [
      "Next, we will compute for your monthly expenses.\n",
      "\n",
      "How much do you spend for property taxes? (Total monthly tax costs) 100\n",
      "How much is your insurance? (Total monthly property hazard insurance estimate) 100\n",
      "Do you pay for utilities? \n",
      "1 for Yes, 2 for No: 1\n",
      "How much do you pay for electricity? 10\n",
      "How much do you pay for water? 10\n",
      "How much do you pay for sewer? 10\n",
      "How much do you pay for garbage? 10\n",
      "How much do you pay for gas? 10\n",
      "How much do you pay for HOA fees? (Condo or association fees) 0\n",
      "How much do you pay for lawn/snow care? (Yard maintenance, preventative maintenance) 0\n",
      "How much does it cost for vacancy of property? (The national average is approx. 7%. To compute for vacany expense, estimated vacany rate x monthly expense) 100\n",
      "How much do you spend on repairs? (Broken faucets, appliances, etc.) 100\n",
      "How much do you spend on capital expenditures? 100\n",
      "How much do you pay for property management fee? 200\n",
      "How much do you pay for mortgage? 860\n",
      "==========================================\n",
      "\n",
      "Your monthly expense is ........... $1610 \n",
      "\n",
      "========================================== \n",
      "\n"
     ]
    }
   ],
   "source": [
    "    print(f\"Next, we will compute for your monthly expenses.\\n\")\n",
    "    tax_exp = int(input(f\"How much do you spend for property taxes? (Total monthly tax costs) \"))\n",
    "    insurance_exp = int(input(f\"How much is your insurance? (Total monthly property hazard insurance estimate) \"))\n",
    "    print(f\"Do you pay for utilities? \")\n",
    "    utilities_q = int(input(f\"1 for Yes, 2 for No: \"))\n",
    "    \n",
    "    if utilities_q == 2:\n",
    "        utilities_a = False\n",
    "        utilities_exp = 0\n",
    "    while utilities_a:\n",
    "        electric_exp = int(input(f\"How much do you pay for electricity? \"))\n",
    "        water_exp = int(input(f\"How much do you pay for water? \"))\n",
    "        sewer_exp = int(input(f\"How much do you pay for sewer? \"))\n",
    "        garbage_exp = int(input(f\"How much do you pay for garbage? \"))\n",
    "        gas_exp = int(input(f\"How much do you pay for gas? \"))\n",
    "        utilities_exp = electric_exp + water_exp + sewer_exp + garbage_exp + gas_exp\n",
    "        break\n",
    "\n",
    "    hoa_exp = int(input(f\"How much do you pay for HOA fees? (Condo or association fees) \" ))\n",
    "    lawn_exp = int(input(f\"How much do you pay for lawn/snow care? (Yard maintenance, preventative maintenance) \"))\n",
    "    vacancy_exp = int(input(f\"How much does it cost for vacancy of property? (The national average is approx. 7%. To compute for vacany expense, estimated vacany rate x monthly expense) \"))\n",
    "    repairs_exp = int(input(f\"How much do you spend on repairs? (Broken faucets, appliances, etc.) \"))\n",
    "    capex_exp = int(input(f\"How much do you spend on capital expenditures? \"))\n",
    "    management_exp = int(input(f\"How much do you pay for property management fee? \"))\n",
    "    mortgage_exp = int(input(f\"How much do you pay for mortgage? \"))\n",
    "    \n",
    "    user1 = Expenses(tax_exp, insurance_exp, utilities_exp, hoa_exp, lawn_exp, vacancy_exp, repairs_exp, capex_exp, management_exp, mortgage_exp)\n",
    "\n",
    "    total_expense = tax_exp + insurance_exp + utilities_exp + hoa_exp + lawn_exp + vacancy_exp + repairs_exp + capex_exp + management_exp + mortgage_exp\n",
    "    total_expense1 = (f\"\\nYour monthly expense is ........... ${total_expense}\")\n",
    "    print(len(total_expense1)* \"=\")\n",
    "    print(total_expense1,\"\\n\")\n",
    "    print(len(total_expense1)* \"=\",\"\\n\")"
   ]
  },
  {
   "cell_type": "markdown",
   "id": "7963866a",
   "metadata": {},
   "source": [
    "Compute for cash flow"
   ]
  },
  {
   "cell_type": "code",
   "execution_count": 13,
   "id": "02f3f925",
   "metadata": {},
   "outputs": [
    {
     "name": "stdout",
     "output_type": "stream",
     "text": [
      "Next, we will compute for your monthly cash flow.\n",
      "Monthly cash flow would be your (monthly income - monthly expenses)\n",
      "\n",
      "Monthly Income: $2000 - Monthly Expenses: $1610\n",
      "\n",
      "========================================= \n",
      "\n",
      "Your monthly cashflow is .......... $390\n",
      "\n",
      "========================================= \n",
      "\n"
     ]
    }
   ],
   "source": [
    "    total_cashflow = total_income - total_expense\n",
    "    print(f\"Next, we will compute for your monthly cash flow.\")\n",
    "    print(f\"Monthly cash flow would be your (monthly income - monthly expenses)\\n\")\n",
    "    print(f\"Monthly Income: ${total_income} - Monthly Expenses: ${total_expense}\\n\")\n",
    "    total_cashflow1 = (f\"Your monthly cashflow is .......... ${total_cashflow}\\n\")\n",
    "    print(len(total_cashflow1)*\"=\",\"\\n\")\n",
    "    print(total_cashflow1)\n",
    "    print(len(total_cashflow1)*\"=\",\"\\n\")"
   ]
  },
  {
   "cell_type": "markdown",
   "id": "886ba4cf",
   "metadata": {},
   "source": [
    "Compute for cash on cash ROI"
   ]
  },
  {
   "cell_type": "code",
   "execution_count": 14,
   "id": "f6d56008",
   "metadata": {},
   "outputs": [
    {
     "name": "stdout",
     "output_type": "stream",
     "text": [
      "Lastly, we will compute for your cash on cash ROI\n",
      "\n",
      "Did you pay in full or did you put a downpayment for your property?\n",
      "1 for Fully Paid, 2 for Downpaid: 2\n",
      "How much was your downpayment? 40000\n",
      "How was was your closing cost? 3000\n",
      "How much was your rehab budget? 7000\n",
      "\n",
      "\n"
     ]
    }
   ],
   "source": [
    "    print(f\"Lastly, we will compute for your cash on cash ROI\\n\")\n",
    "    print(f\"Did you pay in full or did you put a downpayment for your property?\")\n",
    "    property_payment = int(input(f\"1 for Fully Paid, 2 for Downpaid: \"))\n",
    "    if property_payment == 1:\n",
    "        full_payment_exp = int(input(f\"How much did you pay in full? \"))\n",
    "        down_payment_exp = 0\n",
    "    elif property_payment == 2:\n",
    "        down_payment_exp = int(input(f\"How much was your downpayment? \"))\n",
    "    full_payment_exp = 0\n",
    "    closing_exp = int(input(f\"How was was your closing cost? \"))\n",
    "    rehab_exp = int(input(f\"How much was your rehab budget? \"))\n",
    "    print(\"\\n\")"
   ]
  },
  {
   "cell_type": "markdown",
   "id": "3b0e35e2",
   "metadata": {},
   "source": [
    "Compute for total investment"
   ]
  },
  {
   "cell_type": "code",
   "execution_count": 15,
   "id": "c3b5fe2d",
   "metadata": {},
   "outputs": [
    {
     "name": "stdout",
     "output_type": "stream",
     "text": [
      "========================================== \n",
      "\n",
      "Your total investment is .......... $50000 \n",
      "\n"
     ]
    }
   ],
   "source": [
    "    total_investment = down_payment_exp + full_payment_exp + closing_exp + rehab_exp\n",
    "    total_inv1 = f\"Your total investment is .......... ${total_investment}\"\n",
    "    print(len(total_inv1)*\"=\",\"\\n\")\n",
    "    print(total_inv1,\"\\n\")"
   ]
  },
  {
   "cell_type": "markdown",
   "id": "0cfda178",
   "metadata": {},
   "source": [
    "Compute for total ROI"
   ]
  },
  {
   "cell_type": "code",
   "execution_count": 16,
   "id": "bbeb0746",
   "metadata": {},
   "outputs": [
    {
     "name": "stdout",
     "output_type": "stream",
     "text": [
      "Your annual cash flow is ......... $4680\n",
      "\n",
      "Your cash on cash ROI is ........... 9.36%\n"
     ]
    }
   ],
   "source": [
    "    annual_cashflow = total_cashflow * 12\n",
    "    print(f\"Your annual cash flow is ......... ${annual_cashflow}\\n\")\n",
    "    total_roi = annual_cashflow / total_investment \n",
    "    total_roi *= 100\n",
    "    total_roi1 = f\"Your cash on cash ROI is ........... {total_roi:.2f}%\"\n",
    "    print(total_roi1)\n",
    "\n",
    "    user1 = COC(down_payment_exp, full_payment_exp, closing_exp, rehab_exp)"
   ]
  },
  {
   "cell_type": "markdown",
   "id": "eb742fae",
   "metadata": {},
   "source": [
    "Print receipt"
   ]
  },
  {
   "cell_type": "code",
   "execution_count": 18,
   "id": "2ee6e84d",
   "metadata": {},
   "outputs": [
    {
     "name": "stdout",
     "output_type": "stream",
     "text": [
      "Would you like to see the summary of your everything? \n",
      "1 for Yes, 2 for No: 1\n",
      "\n",
      "\n",
      "================= SUMMARRY =================\n",
      "\n",
      "Monthly Income: $2000\n",
      "Monthly Expense: $1610\n",
      "Monthly Cashflow: $390\n",
      "Total Investment: $50000\n",
      "Annual Cashflow: $4680\n",
      "Cash on Cash ROI: 9.36%\n",
      "\n",
      "============================================\n",
      "\n",
      "Thank you for using Bigger Pockets' Rental Property ROI Calculator.\n",
      "We hope to see you again!\n"
     ]
    }
   ],
   "source": [
    "    user1 = ROI_Calculator(total_income, total_expense, total_cashflow, total_investment, annual_cashflow, total_roi)\n",
    "\n",
    "    print_receipt = True\n",
    "\n",
    "    while print_receipt:\n",
    "        print(f\"Would you like to see the summary of your everything? \")\n",
    "        print_receipt1 = int(input(f\"1 for Yes, 2 for No: \"))\n",
    "        if print_receipt1 == 1:\n",
    "            ROI_Calculator.print_receipt()\n",
    "            print(f\"\\nThank you for using Bigger Pockets' Rental Property ROI Calculator.\")\n",
    "            print(f\"We hope to see you again!\")\n",
    "            break\n",
    "        elif print_receipt1 == 2:\n",
    "            print(\"\\n\")\n",
    "            print(f\"Thank you for using Bigger Pockets' Rental Property ROI Calculator.\")   \n",
    "            print(f\"We hope to see you again!\")\n",
    "            break"
   ]
  },
  {
   "cell_type": "code",
   "execution_count": 19,
   "id": "557da514",
   "metadata": {},
   "outputs": [
    {
     "ename": "NameError",
     "evalue": "name 'run_calculator' is not defined",
     "output_type": "error",
     "traceback": [
      "\u001b[1;31m---------------------------------------------------------------------------\u001b[0m",
      "\u001b[1;31mNameError\u001b[0m                                 Traceback (most recent call last)",
      "\u001b[1;32m~\\AppData\\Local\\Temp\\ipykernel_5276\\557468033.py\u001b[0m in \u001b[0;36m<module>\u001b[1;34m\u001b[0m\n\u001b[1;32m----> 1\u001b[1;33m \u001b[0mrun_calculator\u001b[0m\u001b[1;33m(\u001b[0m\u001b[1;33m)\u001b[0m\u001b[1;33m\u001b[0m\u001b[1;33m\u001b[0m\u001b[0m\n\u001b[0m",
      "\u001b[1;31mNameError\u001b[0m: name 'run_calculator' is not defined"
     ]
    }
   ],
   "source": [
    "run_calculator()"
   ]
  },
  {
   "cell_type": "code",
   "execution_count": null,
   "id": "256728ae",
   "metadata": {},
   "outputs": [],
   "source": []
  },
  {
   "cell_type": "code",
   "execution_count": null,
   "id": "11a27300",
   "metadata": {},
   "outputs": [],
   "source": []
  }
 ],
 "metadata": {
  "kernelspec": {
   "display_name": "Python 3 (ipykernel)",
   "language": "python",
   "name": "python3"
  },
  "language_info": {
   "codemirror_mode": {
    "name": "ipython",
    "version": 3
   },
   "file_extension": ".py",
   "mimetype": "text/x-python",
   "name": "python",
   "nbconvert_exporter": "python",
   "pygments_lexer": "ipython3",
   "version": "3.9.13"
  }
 },
 "nbformat": 4,
 "nbformat_minor": 5
}
